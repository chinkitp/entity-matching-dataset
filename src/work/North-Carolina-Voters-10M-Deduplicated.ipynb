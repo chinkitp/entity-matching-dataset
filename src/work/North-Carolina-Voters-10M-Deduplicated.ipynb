{
 "cells": [
  {
   "cell_type": "code",
   "execution_count": 2,
   "metadata": {},
   "outputs": [
    {
     "data": {
      "text/plain": [
       "spark = org.apache.spark.sql.SparkSession@56f5a9f3\n"
      ]
     },
     "metadata": {},
     "output_type": "display_data"
    },
    {
     "data": {
      "text/plain": [
       "org.apache.spark.sql.SparkSession@56f5a9f3"
      ]
     },
     "execution_count": 2,
     "metadata": {},
     "output_type": "execute_result"
    }
   ],
   "source": [
    "val spark = SparkSession\n",
    "  .builder()\n",
    "  .appName(\"Entity Matching\")\n",
    "  .config(\"spark.sql.broadcastTimeout\", 36000)\n",
    "  .config(\"spark.sql.cbo.enabled\", true)\n",
    "  //.config(\"spark.submit.deployMode\", \"cluster\")\n",
    "  .getOrCreate()"
   ]
  },
  {
   "cell_type": "code",
   "execution_count": 12,
   "metadata": {},
   "outputs": [
    {
     "data": {
      "text/plain": [
       "people = [recid: string, givename: string ... 3 more fields]\n"
      ]
     },
     "metadata": {},
     "output_type": "display_data"
    },
    {
     "data": {
      "text/plain": [
       "lastException: Throwable = null\n"
      ]
     },
     "metadata": {},
     "output_type": "display_data"
    },
    {
     "data": {
      "text/plain": [
       "[recid: string, givename: string ... 3 more fields]"
      ]
     },
     "execution_count": 12,
     "metadata": {},
     "output_type": "execute_result"
    }
   ],
   "source": [
    "var people = spark.read.csv(\"file:/home/jovyan/work/data\")\n",
    "                .toDF(\"recid\",\"givename\",\"surname\",\"suburb\",\"postcode\")"
   ]
  },
  {
   "cell_type": "code",
   "execution_count": 15,
   "metadata": {},
   "outputs": [
    {
     "name": "stdout",
     "output_type": "stream",
     "text": [
      "root\n",
      " |-- recid: string (nullable = true)\n",
      " |-- givename: string (nullable = true)\n",
      " |-- surname: string (nullable = true)\n",
      " |-- suburb: string (nullable = true)\n",
      " |-- postcode: string (nullable = true)\n",
      "\n"
     ]
    },
    {
     "data": {
      "text/plain": [
       "10000010"
      ]
     },
     "execution_count": 15,
     "metadata": {},
     "output_type": "execute_result"
    }
   ],
   "source": [
    "people.printSchema\n",
    "people.count"
   ]
  },
  {
   "cell_type": "code",
   "execution_count": 41,
   "metadata": {},
   "outputs": [],
   "source": [
    "import org.apache.spark.sql.{Dataset, Row, DataFrame, Column, DataFrameWriter, SaveMode}\n",
    "\n",
    "people.distinct()\n",
    "    .repartition(4)\n",
    "    .write\n",
    "    .option(\"compression\",\"gzip\")\n",
    "    .format(\"csv\") \n",
    "    .mode(SaveMode.Overwrite)\n",
    "    .save(\"file:/home/jovyan/work/data/de-duplicated/\")"
   ]
  },
  {
   "cell_type": "code",
   "execution_count": 36,
   "metadata": {},
   "outputs": [
    {
     "name": "stdout",
     "output_type": "stream",
     "text": [
      "+--------+--------+-------+----------+--------+\n",
      "|   recid|givename|surname|    suburb|postcode|\n",
      "+--------+--------+-------+----------+--------+\n",
      "|01188257| rosella|   rice|greenville|   27858|\n",
      "|04147537| rosella|  corey|greenville|   27834|\n",
      "|01519382| rosella| howery|greenville|   27858|\n",
      "|01519382| rosella|  hoery|greenville|   278s8|\n",
      "+--------+--------+-------+----------+--------+\n",
      "\n"
     ]
    }
   ],
   "source": [
    "people.distinct().where(\"givename = 'rosella' AND suburb = 'greenville'\").show"
   ]
  },
  {
   "cell_type": "code",
   "execution_count": null,
   "metadata": {},
   "outputs": [],
   "source": []
  }
 ],
 "metadata": {
  "kernelspec": {
   "display_name": "Apache Toree - Scala",
   "language": "scala",
   "name": "apache_toree_scala"
  },
  "language_info": {
   "codemirror_mode": "text/x-scala",
   "file_extension": ".scala",
   "mimetype": "text/x-scala",
   "name": "scala",
   "pygments_lexer": "scala",
   "version": "2.11.12"
  }
 },
 "nbformat": 4,
 "nbformat_minor": 4
}
